{
 "cells": [
  {
   "cell_type": "code",
   "execution_count": 31,
   "id": "affiliated-geneva",
   "metadata": {},
   "outputs": [],
   "source": [
    "import torch\n",
    "import speechbrain as sb\n",
    "from speechbrain.pretrained import EncoderDecoderASR\n",
    "\n",
    "import numpy as np\n",
    "import glob\n",
    "from datasets import load_metric\n",
    "import re"
   ]
  },
  {
   "cell_type": "code",
   "execution_count": 12,
   "id": "harmful-level",
   "metadata": {},
   "outputs": [],
   "source": [
    "with open('data/reading-passage.txt', 'r') as file:\n",
    "    gt_data = file.read()\n",
    "\n",
    "gt_data = re.sub('[^A-Za-z0-9]+', ' ', gt_data).lower().strip()"
   ]
  },
  {
   "cell_type": "code",
   "execution_count": 5,
   "id": "anticipated-burton",
   "metadata": {},
   "outputs": [
    {
     "data": {
      "application/vnd.jupyter.widget-view+json": {
       "model_id": "c2fc304fb3fc451f9103a1bd7a168753",
       "version_major": 2,
       "version_minor": 0
      },
      "text/plain": [
       "HBox(children=(FloatProgress(value=0.0, description='Downloading', max=1947.0, style=ProgressStyle(description…"
      ]
     },
     "metadata": {},
     "output_type": "display_data"
    },
    {
     "name": "stdout",
     "output_type": "stream",
     "text": [
      "\n"
     ]
    }
   ],
   "source": [
    "metric = load_metric('wer')"
   ]
  },
  {
   "cell_type": "code",
   "execution_count": 2,
   "id": "confirmed-bikini",
   "metadata": {},
   "outputs": [],
   "source": [
    "model = EncoderDecoderASR.from_hparams(\n",
    "    source=\"speechbrain/asr-crdnn-rnnlm-librispeech\", savedir='models/pretrained_models',\n",
    "    run_opts={\"device\":\"cuda\"}\n",
    ")"
   ]
  },
  {
   "cell_type": "code",
   "execution_count": 22,
   "id": "final-chrome",
   "metadata": {},
   "outputs": [],
   "source": [
    "recordings = glob.glob('data/recordings/recordings/*.mp3')"
   ]
  },
  {
   "cell_type": "code",
   "execution_count": 23,
   "id": "injured-adventure",
   "metadata": {},
   "outputs": [],
   "source": [
    "predictions = []\n",
    "for recording in recordings:\n",
    "    pred = model.transcribe_file(recording)\n",
    "    predictions.append(pred.lower())"
   ]
  },
  {
   "cell_type": "code",
   "execution_count": 30,
   "id": "adaptive-traffic",
   "metadata": {},
   "outputs": [
    {
     "name": "stdout",
     "output_type": "stream",
     "text": [
      "WER: 51.34\n"
     ]
    }
   ],
   "source": [
    "wer = metric.compute(references=[gt_data] * len(predictions), predictions=predictions)\n",
    "print('WER: {}'.format(round(wer * 100, 2)))"
   ]
  },
  {
   "cell_type": "code",
   "execution_count": 33,
   "id": "contained-insurance",
   "metadata": {},
   "outputs": [
    {
     "data": {
      "text/plain": [
       "array([\"pray is called stella ask her to bring these things with her from the store six pounds o freight square peace faint sticks laps of blue cheese and mabel's neck for a bride's bow we also need a small practice thank and a big toy frog for the kiss she can scoop these things into three red bags and we'll go meet her as they at the translation\",\n",
       "       'please cause helen asked her to bring these things with her from the store six pounds of fresh snow peas five thick slabs of blue cheese and maybe snack for her brother bob we also need a small plastic snake and a big toy frog for the kids she can scoop these things into three red bags and we will go meet her wednesday at the train station',\n",
       "       \"please call stella asked her to bring these things with her from the stile six spoons of fresh snow peas five thick slabs of new cheese and maybe a snack for her brother bob we also need a small plastic snake and a big toy frog for the kids she can scoop these things into three red bags and we'll go meet her wednesday at the train station\",\n",
       "       'please call stella asked her to bring these things with her from the store six spoons of fresh snow peace five thick slabs of blue cheese and maybe a snack for her brother bob we also need a small plaster snake and a big toy frog for the kids she can scoop these things into three red bags and we will go meet her wednesday at the train station',\n",
       "       'please call stella ask her to bring these things with her from this door six boons afresh no peas five thick slabs of blue cheese and maybe a snack for her brother bob we also need a small plastic snake and a big toy frog for the kids she can scoop these things into three red bags and we will go meet her wednesday at the train station',\n",
       "       \"he's called stella asked her to bring these things with her from the store in a big type frock for the kids she conscript these things into three red bags and we'll be gone me to wednesday at the training stations\",\n",
       "       \"police calls stella ask her to bring these things with her from the store six spoons of fresh snow peace thy thick slaps of broad cheese and maybe a snack for her brother bob we also need a small plastic snake and to make toy frog for the kid's she can't a score fierce things into three red bags and we'll go me to her when stay at the train station\",\n",
       "       'he is called stella asked to bring these things whether from a store six spoons of fresh snowpiece five thick slabs of blue cheese and maybe a snack for her brother bobby also in a small plastic snake and a big toy frog for the kids she consulted these things into three red bags and we will go meet her wednesday at the translation',\n",
       "       \"police called stealer asked her to bring these things with her from the store sixpence of wretched square pews five ticks slabs of blew cheese and mebby a snack for her brother bob we also need a small plastic snake and a big toy frog to the kid's\",\n",
       "       'please call stella ask her to bring these things with her from the store six spoons of fresh snow peas five fixed lamps of blue cheese and maybe a snack for her brother bob we also need a small plastic snake and a big toy frog for the kids she can scoop these things into three red bags and we will go meet her wednesday at the train station'],\n",
       "      dtype='<U7344')"
      ]
     },
     "execution_count": 33,
     "metadata": {},
     "output_type": "execute_result"
    }
   ],
   "source": [
    "# Display random samples\n",
    "np.random.choice(predictions, 10)"
   ]
  }
 ],
 "metadata": {
  "kernelspec": {
   "display_name": "Python 3",
   "language": "python",
   "name": "python3"
  },
  "language_info": {
   "codemirror_mode": {
    "name": "ipython",
    "version": 3
   },
   "file_extension": ".py",
   "mimetype": "text/x-python",
   "name": "python",
   "nbconvert_exporter": "python",
   "pygments_lexer": "ipython3",
   "version": "3.8.8"
  }
 },
 "nbformat": 4,
 "nbformat_minor": 5
}
